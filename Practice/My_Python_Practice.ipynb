{
 "cells": [
  {
   "cell_type": "markdown",
   "metadata": {},
   "source": [
    "## Basic Python Practice\n",
    "\n",
    "- Indexing and Slicing"
   ]
  },
  {
   "cell_type": "code",
   "execution_count": 38,
   "metadata": {},
   "outputs": [
    {
     "name": "stdout",
     "output_type": "stream",
     "text": [
      "[1, 2, 3, 4, 5, 6, 7, 8, 9, 10]\n",
      "[10, 11, 12, 13, 14, 15, 16, 17, 18, 19, 20, 21, 22, 23, 24, 25, 26, 27, 28, 29]\n"
     ]
    }
   ],
   "source": [
    "mylist = [1,2,3,4,5,6,7,8,9,10]\n",
    "print(mylist)\n",
    "mylist2 = [*range(10,30)]\n",
    "print(mylist2)"
   ]
  },
  {
   "cell_type": "code",
   "execution_count": 24,
   "metadata": {},
   "outputs": [
    {
     "name": "stdout",
     "output_type": "stream",
     "text": [
      "[196, 158, 135, 168, 137, 131, 185, 188, 179, 140, 129, 165, 125, 150, 191, 178, 118, 149, 181, 180, 126, 173, 127, 110, 177, 164, 133, 142, 108, 138, 144, 122, 139, 153, 167, 170, 187, 159, 184, 128, 169, 163, 195, 143, 162, 197, 100, 160, 116, 189]\n",
      "[127, 110, 177, 164, 133]\n",
      "['BPF', 'LOG4', 'NV_MAGICCONST', 'RECIP_BPF', 'Random', 'SG_MAGICCONST', 'SystemRandom', 'TWOPI', '_Sequence', '_Set', '__all__', '__builtins__', '__cached__', '__doc__', '__file__', '__loader__', '__name__', '__package__', '__spec__', '_accumulate', '_acos', '_bisect', '_ceil', '_cos', '_e', '_exp', '_inst', '_log', '_os', '_pi', '_random', '_repeat', '_sha512', '_sin', '_sqrt', '_test', '_test_generator', '_urandom', '_warn', 'betavariate', 'choice', 'choices', 'expovariate', 'gammavariate', 'gauss', 'getrandbits', 'getstate', 'lognormvariate', 'normalvariate', 'paretovariate', 'randint', 'random', 'randrange', 'sample', 'seed', 'setstate', 'shuffle', 'triangular', 'uniform', 'vonmisesvariate', 'weibullvariate']\n"
     ]
    }
   ],
   "source": [
    "import random\n",
    "list50 = random.sample(range(100,200),50)\n",
    "print(list50)\n",
    "mid5 = list50[22:27]\n",
    "print(mid5)\n",
    "print(dir(random))"
   ]
  },
  {
   "cell_type": "code",
   "execution_count": 34,
   "metadata": {},
   "outputs": [
    {
     "name": "stdout",
     "output_type": "stream",
     "text": [
      "[42, 40, 70, 63, 39, 80, 74, 68, 43, 64, 32, 78, 91, 86, 26, 11, 54, 65, 25, 15, 37, 88, 73, 4, 76, 72, 3, 22, 85, 29, 90, 27, 45, 84, 35, 56, 92, 6, 79, 10, 97, 98, 99, 62, 51, 59, 1, 53, 9, 2]\n",
      "Even indexed number in the random list [42, 70, 39, 74, 43, 32, 91, 26, 54, 25, 37, 73, 76, 3, 85, 90, 45, 35, 92, 79, 97, 99, 51, 1, 9]\n",
      "Odd indexed number in the random list [40, 63, 80, 68, 64, 78, 86, 11, 65, 15, 88, 4, 72, 22, 29, 27, 84, 56, 6, 10, 98, 62, 59, 53, 2]\n",
      "Even numbers in the random list [42, 40, 70, 80, 74, 68, 64, 32, 78, 86, 26, 54, 88, 4, 76, 72, 22, 90, 84, 56, 92, 6, 10, 98, 62, 2]\n",
      "Odd numbers in the random list [63, 39, 43, 91, 11, 65, 25, 15, 37, 73, 3, 85, 29, 27, 45, 35, 79, 97, 99, 51, 59, 1, 53, 9]\n"
     ]
    }
   ],
   "source": [
    "import random\n",
    "rlist = random.sample(range(0,100),50)\n",
    "print(rlist)\n",
    "even_index1 = rlist[0::2]\n",
    "odd_index1 =rlist[1::2]\n",
    "print('Even indexed number in the random list', even_index1)\n",
    "print('Odd indexed number in the random list', odd_index1)\n",
    "even_lst=[]\n",
    "odd_lst=[]\n",
    "for i in rlist:\n",
    "    a=i%2\n",
    "    if a==0:\n",
    "        even_lst.append(i)\n",
    "    else:\n",
    "        odd_lst.append(i)\n",
    "print('Even numbers in the random list', even_lst)\n",
    "print('Odd numbers in the random list', odd_lst)\n"
   ]
  },
  {
   "cell_type": "code",
   "execution_count": 31,
   "metadata": {},
   "outputs": [
    {
     "name": "stdout",
     "output_type": "stream",
     "text": [
      "[10, 11, 12, 13, 14, 15, 16, 17, 18, 19, 20, 21, 22, 23, 24, 25, 26, 27, 28, 29, 30, 31, 32, 33, 34, 35, 36, 37, 38, 39, 40, 41, 42, 43, 44, 45, 46, 47, 48, 49]\n",
      "[10, 12, 14, 16, 18, 20, 22, 24, 26, 28, 30, 32, 34, 36, 38, 40, 42, 44, 46, 48]\n",
      "[11, 13, 15, 17, 19, 21, 23, 25, 27, 29, 31, 33, 35, 37, 39, 41, 43, 45, 47, 49]\n",
      "[10, 12, 14, 16, 18, 20, 22, 24, 26, 28, 30, 32, 34, 36, 38, 40, 42, 44, 46, 48]\n",
      "[11, 13, 15, 17, 19, 21, 23, 25, 27, 29, 31, 33, 35, 37, 39, 41, 43, 45, 47, 49]\n"
     ]
    }
   ],
   "source": [
    "rlist2 = list(range(10,50))\n",
    "print(rlist2)\n",
    "even_ls = rlist2[0::2]\n",
    "odd_ls =rlist2[1::2]\n",
    "print(even_ls)\n",
    "print(odd_ls)\n",
    "even_index=[]\n",
    "odd_index=[]\n",
    "for i in rlist2:\n",
    "    a=i%2\n",
    "    if a==0:\n",
    "        even_index.append(i)\n",
    "    else:\n",
    "        odd_index.append(i)\n",
    "print(even_index)\n",
    "print(odd_index)\n",
    "\n",
    "    \n",
    "\n",
    "    "
   ]
  },
  {
   "cell_type": "code",
   "execution_count": null,
   "metadata": {},
   "outputs": [],
   "source": []
  },
  {
   "cell_type": "code",
   "execution_count": null,
   "metadata": {},
   "outputs": [],
   "source": []
  },
  {
   "cell_type": "code",
   "execution_count": null,
   "metadata": {},
   "outputs": [],
   "source": []
  },
  {
   "cell_type": "code",
   "execution_count": null,
   "metadata": {},
   "outputs": [],
   "source": []
  },
  {
   "cell_type": "code",
   "execution_count": null,
   "metadata": {},
   "outputs": [],
   "source": []
  },
  {
   "cell_type": "code",
   "execution_count": null,
   "metadata": {},
   "outputs": [],
   "source": []
  },
  {
   "cell_type": "code",
   "execution_count": null,
   "metadata": {},
   "outputs": [],
   "source": []
  },
  {
   "cell_type": "code",
   "execution_count": null,
   "metadata": {},
   "outputs": [],
   "source": []
  },
  {
   "cell_type": "code",
   "execution_count": null,
   "metadata": {},
   "outputs": [],
   "source": []
  },
  {
   "cell_type": "code",
   "execution_count": null,
   "metadata": {},
   "outputs": [],
   "source": []
  },
  {
   "cell_type": "code",
   "execution_count": null,
   "metadata": {},
   "outputs": [],
   "source": []
  },
  {
   "cell_type": "code",
   "execution_count": null,
   "metadata": {},
   "outputs": [],
   "source": []
  }
 ],
 "metadata": {
  "kernelspec": {
   "display_name": "Python 3",
   "language": "python",
   "name": "python3"
  },
  "language_info": {
   "codemirror_mode": {
    "name": "ipython",
    "version": 3
   },
   "file_extension": ".py",
   "mimetype": "text/x-python",
   "name": "python",
   "nbconvert_exporter": "python",
   "pygments_lexer": "ipython3",
   "version": "3.8.3"
  }
 },
 "nbformat": 4,
 "nbformat_minor": 4
}
